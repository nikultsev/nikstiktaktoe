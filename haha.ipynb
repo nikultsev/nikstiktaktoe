{
 "cells": [
  {
   "cell_type": "code",
   "execution_count": 1,
   "metadata": {},
   "outputs": [
    {
     "name": "stdout",
     "output_type": "stream",
     "text": [
      "2\n"
     ]
    }
   ],
   "source": [
    "print(1+1)"
   ]
  },
  {
   "cell_type": "code",
   "execution_count": 2,
   "metadata": {},
   "outputs": [],
   "source": [
    "import numpy"
   ]
  },
  {
   "cell_type": "code",
   "execution_count": 3,
   "metadata": {},
   "outputs": [],
   "source": [
    "## MCTS TIc TAc Toe"
   ]
  },
  {
   "cell_type": "code",
   "execution_count": 2,
   "metadata": {},
   "outputs": [
    {
     "name": "stdout",
     "output_type": "stream",
     "text": [
      "X | O | X\n",
      "-----\n",
      "X | X | O\n",
      "-----\n",
      "O | X | O\n",
      "-----\n",
      "\n"
     ]
    }
   ],
   "source": [
    "import random\n",
    "import math\n",
    "from copy import deepcopy\n",
    "\n",
    "class Node:\n",
    "    def __init__(self, state, parent=None):\n",
    "        self.state = state\n",
    "        self.parent = parent\n",
    "        self.children = []\n",
    "        self.visits = 0\n",
    "        self.wins = 0\n",
    "\n",
    "    def is_fully_expanded(self):\n",
    "        return len(self.children) == len(self.state.get_legal_actions())\n",
    "\n",
    "    def best_child(self, c_param=1.4):\n",
    "        choices_weights = [\n",
    "            (child.wins / child.visits) + c_param * math.sqrt((2 * math.log(self.visits) / child.visits))\n",
    "            for child in self.children\n",
    "        ]\n",
    "        return self.children[choices_weights.index(max(choices_weights))]\n",
    "\n",
    "class TicTacToe:\n",
    "    def __init__(self):\n",
    "        self.board = [[None, None, None], [None, None, None], [None, None, None]]\n",
    "        self.current_player = 'X'\n",
    "\n",
    "    def clone(self):\n",
    "        clone = TicTacToe()\n",
    "        clone.board = deepcopy(self.board)\n",
    "        clone.current_player = self.current_player\n",
    "        return clone\n",
    "\n",
    "    def get_legal_actions(self):\n",
    "        actions = []\n",
    "        for r in range(3):\n",
    "            for c in range(3):\n",
    "                if self.board[r][c] is None:\n",
    "                    actions.append((r, c))\n",
    "        return actions\n",
    "\n",
    "    def play_action(self, action):\n",
    "        r, c = action\n",
    "        if self.board[r][c] is None:\n",
    "            self.board[r][c] = self.current_player\n",
    "            self.current_player = 'O' if self.current_player == 'X' else 'X'\n",
    "\n",
    "    def is_terminal(self):\n",
    "        return self.get_winner() is not None or all(cell is not None for row in self.board for cell in row)\n",
    "\n",
    "    def get_winner(self):\n",
    "        for line in self.board + list(map(list, zip(*self.board))) + \\\n",
    "                    [[self.board[i][i] for i in range(3)], [self.board[i][2-i] for i in range(3)]]:\n",
    "            if line[0] is not None and line[0] == line[1] == line[2]:\n",
    "                return line[0]\n",
    "        return None\n",
    "\n",
    "    def get_result(self, player):\n",
    "        winner = self.get_winner()\n",
    "        if winner == player:\n",
    "            return 1\n",
    "        elif winner is None:\n",
    "            return 0.5\n",
    "        else:\n",
    "            return 0\n",
    "\n",
    "def MCTS(root, iterations=1000):\n",
    "    for _ in range(iterations):\n",
    "        node = tree_policy(root)\n",
    "        reward = default_policy(node.state)\n",
    "        backup(node, reward)\n",
    "    return root.best_child(0)\n",
    "\n",
    "def tree_policy(node):\n",
    "    while not node.state.is_terminal():\n",
    "        if not node.is_fully_expanded():\n",
    "            return expand(node)\n",
    "        else:\n",
    "            node = node.best_child()\n",
    "    return node\n",
    "\n",
    "def expand(node):\n",
    "    tried_children = [child.state for child in node.children]\n",
    "    new_state = node.state.clone()\n",
    "    action = random.choice([act for act in new_state.get_legal_actions() if new_state.clone().play_action(act) not in tried_children])\n",
    "    new_state.play_action(action)\n",
    "    child_node = Node(new_state, node)\n",
    "    node.children.append(child_node)\n",
    "    return child_node\n",
    "\n",
    "def default_policy(state):\n",
    "    while not state.is_terminal():\n",
    "        state.play_action(random.choice(state.get_legal_actions()))\n",
    "    return state.get_result(state.current_player)\n",
    "\n",
    "def backup(node, reward):\n",
    "    while node is not None:\n",
    "        node.visits += 1\n",
    "        node.wins += reward\n",
    "        node = node.parent\n",
    "        reward = 1 - reward\n",
    "\n",
    "def print_board(board):\n",
    "    for row in board:\n",
    "        print(' | '.join([cell if cell is not None else ' ' for cell in row]))\n",
    "        print('-' * 5)\n",
    "\n",
    "if __name__ == \"__main__\":\n",
    "    game = TicTacToe()\n",
    "    root = Node(game)\n",
    "\n",
    "    while not game.is_terminal():\n",
    "        if game.current_player == 'X':\n",
    "            root = MCTS(root, 1000)\n",
    "            game = root.state\n",
    "        else:\n",
    "            action = random.choice(game.get_legal_actions())\n",
    "            game.play_action(action)\n",
    "            root = Node(game)\n",
    "\n",
    "        print_board(game.board)\n",
    "        print()\n"
   ]
  },
  {
   "cell_type": "code",
   "execution_count": null,
   "metadata": {},
   "outputs": [],
   "source": []
  }
 ],
 "metadata": {
  "kernelspec": {
   "display_name": "Python 3",
   "language": "python",
   "name": "python3"
  },
  "language_info": {
   "codemirror_mode": {
    "name": "ipython",
    "version": 3
   },
   "file_extension": ".py",
   "mimetype": "text/x-python",
   "name": "python",
   "nbconvert_exporter": "python",
   "pygments_lexer": "ipython3",
   "version": "3.11.1"
  }
 },
 "nbformat": 4,
 "nbformat_minor": 2
}
